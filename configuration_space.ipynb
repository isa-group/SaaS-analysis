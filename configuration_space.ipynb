{
 "cells": [
  {
   "cell_type": "code",
   "execution_count": 10,
   "metadata": {},
   "outputs": [],
   "source": [
    "from math import comb\n",
    "from scripts.models import PricingManager\n",
    "from scripts.parse_pricing import parse_pricing\n",
    "from itertools import chain, combinations"
   ]
  },
  {
   "cell_type": "code",
   "execution_count": 11,
   "metadata": {},
   "outputs": [],
   "source": [
    "github = parse_pricing(\"pricings/2024/github.yml\") # No dependencies between add-ons\n",
    "petclinic = parse_pricing(\"pricings/extras/petclinic.yml\") # Dependencies between add-ons"
   ]
  },
  {
   "cell_type": "markdown",
   "metadata": {},
   "source": [
    "# Method 1\n",
    "\n",
    "## Theory\n",
    "\n",
    "### Definitions\n",
    "\n",
    "- $C$: Configuration Space\n",
    "- $P$: Set of Plans\n",
    "- $a_p$: Set of add-ons available for plan $p$\n",
    "\n",
    "### Mathematical Formulation\n",
    "\n",
    "$$\n",
    "|C| = |P| + \\sum_{p \\in P} \\left( \\sum_{k=1}^{|a_p|} \\binom{|a_p|}{k} \\right)\n",
    "$$\n",
    "\n",
    "### Consideration\n",
    "\n",
    "This formulation assumes that all add-ons are independent of each other, meaning there are no dependencies that require the inclusion of other add-ons when selecting one, i.e. any combination of available add-ons for a plan is valid.\n",
    "\n",
    "## Code"
   ]
  },
  {
   "cell_type": "code",
   "execution_count": 12,
   "metadata": {},
   "outputs": [
    {
     "name": "stdout",
     "output_type": "stream",
     "text": [
      "GitHub's pricing configuration space: 8960\n",
      "PetClinic's pricing configuration space: 16\n"
     ]
    }
   ],
   "source": [
    "def calculate_subscriptions(pricing: PricingManager):\n",
    "    \n",
    "    np = len(pricing.plans)\n",
    "\n",
    "    subscriptions = np\n",
    "\n",
    "    add_ons_by_plan = {}\n",
    "\n",
    "    for add_on in pricing.add_ons.values():\n",
    "        for plan in add_on.available_for:\n",
    "            add_ons_by_plan[plan] = add_ons_by_plan.get(plan, 0) + 1\n",
    "\n",
    "    for plan, number_of_add_ons in add_ons_by_plan.items():\n",
    "        for k in range(1, number_of_add_ons+1):\n",
    "            subscriptions += comb(number_of_add_ons, k)\n",
    "        \n",
    "    return subscriptions\n",
    "\n",
    "print(f\"GitHub's pricing configuration space: {calculate_subscriptions(github)}\")\n",
    "print(f\"PetClinic's pricing configuration space: {calculate_subscriptions(petclinic)}\")"
   ]
  },
  {
   "cell_type": "markdown",
   "metadata": {},
   "source": [
    "# Method 2\n",
    "\n",
    "## Theory\n",
    "\n",
    "### Definitions\n",
    "\n",
    "- $C$: Configuration Space\n",
    "- $P$: Set of Plans\n",
    "- $A$: Set of add-ons\n",
    "- $E(a)$: For each add-on \\(a \\in A\\), \\(E(a)\\) is the set of plans for which a is excluded.\n",
    "- $D(a)$: For each add-on \\(a \\in A\\), \\(D(a)\\) is the set of add-ons on which \\(a\\) depends.\n",
    "\n",
    "### Mathematical Formulation\n",
    "\n",
    "**Compatible Add-ons for Each Plan**\n",
    "\n",
    "For each plan $p \\in P $, the set of add-ons ($A_p$) compatible with $p$ are:\n",
    "\n",
    "$$\n",
    "A_p = \\{ a \\in A \\mid p \\notin E(a) \\}\n",
    "$$\n",
    "\n",
    "**Partial Order (Poset) Based on Dependencies**\n",
    "\n",
    "So, for each plan $p$, que construct a partially ordered set (poset) ($(A_p, \\leq)$), where the partial order $\\leq$ is defined by:\n",
    "\n",
    "$$\n",
    "a_i \\leq a_j \\iff a_j \\in D(a_i)\n",
    "$$\n",
    "\n",
    "This ensures that if an add-on $a_i$ depends on $a_j$, then $a_j$ must be included whenever $a_i$ is included.\n",
    "\n",
    "**Ideals in the Poset**\n",
    "\n",
    "An ideal in a poset ($A_p, \\leq$) is a subset $I \\leq A_p$ that is downward closed, meaning: \n",
    "\n",
    "If $a \\in I$ and $b \\leq a$, then $b \\in I$.\n",
    "\n",
    "The set of all ideals for plan $p$ is denoted as $I_p$:\n",
    "\n",
    "$$\n",
    "I_p = \\{ \\text{ideals in the poset } (A_p, \\leq) \\}\n",
    "$$\n",
    "\n",
    "​Each ideal represents a valid combination of add-ons that respects the dependencies.\t\n",
    "\n",
    "**Calculation of the size of the configuration space**\n",
    "\n",
    "Finally, the total number of valid configurations $|C|$ is calculated as:\n",
    "\n",
    "$$\n",
    "|C| = |P| + \\sum_{p \\in P} |I_p|\n",
    "$$\n",
    "\n",
    "## Code"
   ]
  },
  {
   "cell_type": "code",
   "execution_count": 13,
   "metadata": {},
   "outputs": [
    {
     "name": "stdout",
     "output_type": "stream",
     "text": [
      "GitHub's pricing configuration space: 8960\n",
      "PetClinic's pricing configuration space: 14\n"
     ]
    }
   ],
   "source": [
    "def powerset(iterable):\n",
    "    \"Generates all possible subsets (the power set) of an iterable.\"\n",
    "    s = list(iterable)\n",
    "    return chain.from_iterable(combinations(s, r) for r in range(len(s)+1))\n",
    "\n",
    "def is_valid_subset(subset, dependencies):\n",
    "    \"Checks if a subset meets the dependencies.\"\n",
    "    subset_set = set(subset)\n",
    "    for addon in subset_set:\n",
    "        if not dependencies[addon].issubset(subset_set):\n",
    "            return False\n",
    "    return True\n",
    "\n",
    "def calculate_ideals(compatible_addons, dependencies):\n",
    "    \"Calculates the number of ideals (valid configurations) in the poset of add-ons.\"\n",
    "    count = 0\n",
    "    for subset in powerset(compatible_addons):\n",
    "        if is_valid_subset(subset, dependencies):\n",
    "            count += 1\n",
    "    return count\n",
    "\n",
    "def calculate_subscriptions(pricing: PricingManager):\n",
    "    total_subscriptions = 0\n",
    "\n",
    "    for plan in pricing.plans:\n",
    "        # Get the add-ons compatible with the plan\n",
    "        compatible_addons = [name for name in pricing.add_ons.keys() if plan in pricing.add_ons[name].available_for]\n",
    "\n",
    "        # Build the filtered dependencies for the compatible add-ons\n",
    "        filtered_dependencies = {}\n",
    "        for addon in compatible_addons:\n",
    "            # Filter dependencies to include only compatible add-ons\n",
    "            deps = pricing.add_ons[addon].depends_on or []\n",
    "            filtered_dependencies[addon] = set(deps) & set(compatible_addons)\n",
    "\n",
    "        # Calculate the number of ideals (valid configurations) in the poset\n",
    "        num_ideals = calculate_ideals(compatible_addons, filtered_dependencies)\n",
    "\n",
    "        # Add the number of valid configurations to the total\n",
    "        total_subscriptions += num_ideals\n",
    "\n",
    "    return total_subscriptions\n",
    "\n",
    "print(f\"GitHub's pricing configuration space: {calculate_subscriptions(github)}\")\n",
    "print(f\"PetClinic's pricing configuration space: {calculate_subscriptions(petclinic)}\")"
   ]
  },
  {
   "cell_type": "markdown",
   "metadata": {},
   "source": [
    "# Conclusion\n",
    "\n",
    "In short, for pricings that do not have exclusions between add-ons, the configuration space should be calculated using **Method 1** as it's much more faster. However, if there are dependencies between add-ons, **Method 2** should be used to ensure that the configuration space is calculated correctly."
   ]
  }
 ],
 "metadata": {
  "kernelspec": {
   "display_name": "iris",
   "language": "python",
   "name": "python3"
  },
  "language_info": {
   "codemirror_mode": {
    "name": "ipython",
    "version": 3
   },
   "file_extension": ".py",
   "mimetype": "text/x-python",
   "name": "python",
   "nbconvert_exporter": "python",
   "pygments_lexer": "ipython3",
   "version": "3.12.4"
  }
 },
 "nbformat": 4,
 "nbformat_minor": 2
}
