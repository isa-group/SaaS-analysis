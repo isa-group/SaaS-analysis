{
 "cells": [
  {
   "cell_type": "markdown",
   "metadata": {},
   "source": [
    "# Supplementary material – \"To Be Defined\"\n",
    "**Submitted to:** International Conference on Service-Oriented Computing (ICSOC) 2025\n",
    "\n",
    "### General variables, parameters and module imports\n",
    "\n",
    "> **DISCLAIMER:** This notebook is a part of the supplementary material for the paper \"To Be Defined\" submitted to International Conference on Service-Oriented Computing (ICSOC) 2025. The notebook is used to analyze the pricing models specified using Pricing2Yaml. The notebook is written in Python and uses multiple libraries for data analysis and visualization. You must install the requirements specified in the `requirements.txt` file to run this notebook."
   ]
  },
  {
   "cell_type": "code",
   "execution_count": 15,
   "metadata": {},
   "outputs": [],
   "source": [
    "\n",
    "from matplotlib import pyplot as plt\n",
    "from IPython.display import display, Markdown\n",
    "from adjustText import adjust_text\n",
    "import seaborn as sns\n",
    "import numpy as np\n",
    "import pandas as pd\n",
    "import os\n",
    "import subprocess\n",
    "import json\n",
    "\n",
    "\n",
    "BASE_PATH = os.path.abspath('')\n",
    "FIGURES_PATH = os.path.join(BASE_PATH, 'figures')\n",
    "DATA_PATH = os.path.join(BASE_PATH, 'data')\n",
    "\n",
    "STUDIED_YEARS = [\"2019\", \"2020\", \"2021\", \"2022\", \"2023\", \"2024\", \"2025\"]"
   ]
  },
  {
   "cell_type": "code",
   "execution_count": 16,
   "metadata": {},
   "outputs": [
    {
     "name": "stdout",
     "output_type": "stream",
     "text": [
      "The directory /Users/alex/Desktop/saas-analysis/data/pricings/json is not empty. Please remove all previously extracted analytics from this directory if you wish to run the experiment and extract the analytics again.\n"
     ]
    }
   ],
   "source": [
    "analytics_path = os.path.join(DATA_PATH, 'pricings', 'json')\n",
    "\n",
    "if not os.path.exists(analytics_path):\n",
    "    os.makedirs(analytics_path)\n",
    "\n",
    "# Check if data/json is empty\n",
    "if not os.listdir(analytics_path):\n",
    "    subprocess.run([\"npm\", \"install\"], check=True)\n",
    "    subprocess.run([\"npx\", \"ts-node\", \"src/scripts/analytics/extract-analytics.ts\", \"-d\", \"data/pricings/yaml/ICSOC'24\"], check=True)\n",
    "    subprocess.run([\"npm\", \"run\", \"experiment\"], check=True)\n",
    "    print(f\"Experiment completed successfully. You can find the logs in the {os.path.join(BASE_PATH, 'logs')} directory.\")\n",
    "else:\n",
    "    print(f\"The directory {analytics_path} is not empty. Please remove all previously extracted analytics from this directory if you wish to run the experiment and extract the analytics again.\")\n"
   ]
  },
  {
   "cell_type": "markdown",
   "metadata": {},
   "source": [
    "### Generation of Data Frames and Exploratory Analysis"
   ]
  },
  {
   "cell_type": "markdown",
   "metadata": {},
   "source": [
    "In this section, we focus on the generation of data frames and the initial exploratory analysis of the SaaS pricing data. The data is extracted from the JSON files generated before, and transformed into structured data frames for further analysis. Key metrics such as the number of plans, features, add-ons, and configuration space size will be analyzed across different years. This step is crucial for understanding trends and patterns in the data, which will inform subsequent statistical and comparative analyses.\n"
   ]
  },
  {
   "cell_type": "code",
   "execution_count": 17,
   "metadata": {},
   "outputs": [
    {
     "data": {
      "text/html": [
       "<div>\n",
       "<style scoped>\n",
       "    .dataframe tbody tr th:only-of-type {\n",
       "        vertical-align: middle;\n",
       "    }\n",
       "\n",
       "    .dataframe tbody tr th {\n",
       "        vertical-align: top;\n",
       "    }\n",
       "\n",
       "    .dataframe thead th {\n",
       "        text-align: right;\n",
       "    }\n",
       "</style>\n",
       "<table border=\"1\" class=\"dataframe\">\n",
       "  <thead>\n",
       "    <tr style=\"text-align: right;\">\n",
       "      <th></th>\n",
       "      <th>SaaS</th>\n",
       "      <th>Year</th>\n",
       "      <th>Features</th>\n",
       "      <th>UsageLimits</th>\n",
       "      <th>Plans</th>\n",
       "      <th>Addons</th>\n",
       "      <th>Configuration_space_size</th>\n",
       "    </tr>\n",
       "  </thead>\n",
       "  <tbody>\n",
       "    <tr>\n",
       "      <th>0</th>\n",
       "      <td>Box</td>\n",
       "      <td>2025</td>\n",
       "      <td>64</td>\n",
       "      <td>13</td>\n",
       "      <td>5</td>\n",
       "      <td>5</td>\n",
       "      <td>33</td>\n",
       "    </tr>\n",
       "    <tr>\n",
       "      <th>1</th>\n",
       "      <td>Box</td>\n",
       "      <td>2024</td>\n",
       "      <td>50</td>\n",
       "      <td>9</td>\n",
       "      <td>5</td>\n",
       "      <td>0</td>\n",
       "      <td>5</td>\n",
       "    </tr>\n",
       "    <tr>\n",
       "      <th>2</th>\n",
       "      <td>Box</td>\n",
       "      <td>2023</td>\n",
       "      <td>50</td>\n",
       "      <td>9</td>\n",
       "      <td>5</td>\n",
       "      <td>0</td>\n",
       "      <td>5</td>\n",
       "    </tr>\n",
       "    <tr>\n",
       "      <th>3</th>\n",
       "      <td>Box</td>\n",
       "      <td>2022</td>\n",
       "      <td>50</td>\n",
       "      <td>9</td>\n",
       "      <td>5</td>\n",
       "      <td>0</td>\n",
       "      <td>5</td>\n",
       "    </tr>\n",
       "    <tr>\n",
       "      <th>4</th>\n",
       "      <td>Box</td>\n",
       "      <td>2021</td>\n",
       "      <td>46</td>\n",
       "      <td>6</td>\n",
       "      <td>4</td>\n",
       "      <td>0</td>\n",
       "      <td>4</td>\n",
       "    </tr>\n",
       "    <tr>\n",
       "      <th>...</th>\n",
       "      <td>...</td>\n",
       "      <td>...</td>\n",
       "      <td>...</td>\n",
       "      <td>...</td>\n",
       "      <td>...</td>\n",
       "      <td>...</td>\n",
       "      <td>...</td>\n",
       "    </tr>\n",
       "    <tr>\n",
       "      <th>232</th>\n",
       "      <td>Zoom</td>\n",
       "      <td>2023</td>\n",
       "      <td>134</td>\n",
       "      <td>8</td>\n",
       "      <td>5</td>\n",
       "      <td>14</td>\n",
       "      <td>23296</td>\n",
       "    </tr>\n",
       "    <tr>\n",
       "      <th>233</th>\n",
       "      <td>Zoom</td>\n",
       "      <td>2022</td>\n",
       "      <td>108</td>\n",
       "      <td>7</td>\n",
       "      <td>5</td>\n",
       "      <td>10</td>\n",
       "      <td>1600</td>\n",
       "    </tr>\n",
       "    <tr>\n",
       "      <th>234</th>\n",
       "      <td>Zoom</td>\n",
       "      <td>2021</td>\n",
       "      <td>55</td>\n",
       "      <td>6</td>\n",
       "      <td>4</td>\n",
       "      <td>8</td>\n",
       "      <td>264</td>\n",
       "    </tr>\n",
       "    <tr>\n",
       "      <th>235</th>\n",
       "      <td>Zoom</td>\n",
       "      <td>2020</td>\n",
       "      <td>45</td>\n",
       "      <td>6</td>\n",
       "      <td>4</td>\n",
       "      <td>3</td>\n",
       "      <td>22</td>\n",
       "    </tr>\n",
       "    <tr>\n",
       "      <th>236</th>\n",
       "      <td>Zoom</td>\n",
       "      <td>2019</td>\n",
       "      <td>69</td>\n",
       "      <td>7</td>\n",
       "      <td>4</td>\n",
       "      <td>6</td>\n",
       "      <td>81</td>\n",
       "    </tr>\n",
       "  </tbody>\n",
       "</table>\n",
       "<p>237 rows × 7 columns</p>\n",
       "</div>"
      ],
      "text/plain": [
       "     SaaS  Year  Features  UsageLimits  Plans  Addons  \\\n",
       "0     Box  2025        64           13      5       5   \n",
       "1     Box  2024        50            9      5       0   \n",
       "2     Box  2023        50            9      5       0   \n",
       "3     Box  2022        50            9      5       0   \n",
       "4     Box  2021        46            6      4       0   \n",
       "..    ...   ...       ...          ...    ...     ...   \n",
       "232  Zoom  2023       134            8      5      14   \n",
       "233  Zoom  2022       108            7      5      10   \n",
       "234  Zoom  2021        55            6      4       8   \n",
       "235  Zoom  2020        45            6      4       3   \n",
       "236  Zoom  2019        69            7      4       6   \n",
       "\n",
       "     Configuration_space_size  \n",
       "0                          33  \n",
       "1                           5  \n",
       "2                           5  \n",
       "3                           5  \n",
       "4                           4  \n",
       "..                        ...  \n",
       "232                     23296  \n",
       "233                      1600  \n",
       "234                       264  \n",
       "235                        22  \n",
       "236                        81  \n",
       "\n",
       "[237 rows x 7 columns]"
      ]
     },
     "execution_count": 17,
     "metadata": {},
     "output_type": "execute_result"
    }
   ],
   "source": [
    "def build_dataframe(path):\n",
    "    \n",
    "    with open(path, 'r') as file:\n",
    "        data = json.load(file)\n",
    "        \n",
    "    records = []\n",
    "    \n",
    "    for saas, years_data in data.items():\n",
    "        for year_data in years_data:\n",
    "            record = {\n",
    "                'SaaS': saas,\n",
    "                'Year': int(year_data['date'].split('-')[0]),\n",
    "                'Features': year_data['analytics']['numberOfFeatures'],\n",
    "                'UsageLimits': year_data['analytics']['numberOfUsageLimits'],\n",
    "                'Plans': year_data['analytics']['numberOfPlans'],\n",
    "                'Addons': year_data['analytics']['numberOfAddOns'],\n",
    "                'Configuration_space_size': year_data['analytics']['configurationSpaceSize'],\n",
    "            }\n",
    "            \n",
    "            records.append(record)\n",
    "            \n",
    "    df = pd.DataFrame(records, columns=['SaaS', 'Year', 'Features', 'UsageLimits', 'Plans', 'Addons', 'Configuration_space_size'])\n",
    "    \n",
    "    return df\n",
    "\n",
    "# Building the DataFrame\n",
    "analytics_file = os.path.join(analytics_path, [file for file in os.listdir(analytics_path) if file.endswith(\"TSC'25.json\")][0])\n",
    "df = build_dataframe(analytics_file)\n",
    "\n",
    "# Displaying the DataFrame\n",
    "df"
   ]
  },
  {
   "cell_type": "code",
   "execution_count": 18,
   "metadata": {},
   "outputs": [],
   "source": [
    "if not os.path.exists(os.path.join(DATA_PATH, 'CSVs')):\n",
    "  os.mkdir(os.path.join(DATA_PATH, 'CSVs'))\n",
    "# Save the dataframes as CSV\n",
    "df.to_csv(os.path.join(DATA_PATH, 'CSVs', 'saas_pricingplans.csv'), index=False)"
   ]
  },
  {
   "cell_type": "markdown",
   "metadata": {},
   "source": [
    "After transforming the JSON file containing all the data into a structured dataframe, its information has been exported as a CSV file, available at the path `data/CSVs/saas_pricingplans.csv` for further use or consultation. \n",
    "\n",
    "## Trends in usage limits within SaaS Pricings"
   ]
  },
  {
   "cell_type": "code",
   "execution_count": 20,
   "metadata": {},
   "outputs": [
    {
     "data": {
      "image/png": "[encoded data removed]",
      "text/plain": [
       "<Figure size 600x500 with 1 Axes>"
      ]
     },
     "metadata": {},
     "output_type": "display_data"
    },
    {
     "data": {
      "text/markdown": [
       "## Mean UsageLimits:"
      ],
      "text/plain": [
       "<IPython.core.display.Markdown object>"
      ]
     },
     "metadata": {},
     "output_type": "display_data"
    },
    {
     "data": {
      "text/markdown": [
       "|   Year |   UsageLimits |\n",
       "|-------:|--------------:|\n",
       "|   2019 |       4.14815 |\n",
       "|   2020 |       5.19355 |\n",
       "|   2021 |       5.62857 |\n",
       "|   2022 |       5.94444 |\n",
       "|   2023 |       7.22222 |\n",
       "|   2024 |       7.69444 |\n",
       "|   2025 |       7.86111 |"
      ],
      "text/plain": [
       "<IPython.core.display.Markdown object>"
      ]
     },
     "metadata": {},
     "output_type": "display_data"
    },
    {
     "data": {
      "text/markdown": [
       "### UsageLimits Increase:"
      ],
      "text/plain": [
       "<IPython.core.display.Markdown object>"
      ]
     },
     "metadata": {},
     "output_type": "display_data"
    },
    {
     "data": {
      "text/markdown": [
       "89.50892857142858%"
      ],
      "text/plain": [
       "<IPython.core.display.Markdown object>"
      ]
     },
     "metadata": {},
     "output_type": "display_data"
    }
   ],
   "source": [
    "titleSize=20\n",
    "axisSize=16\n",
    "fontSize=14\n",
    "outliersSize=10\n",
    "plt.rcParams.update({'font.size': fontSize})\n",
    "\n",
    "def draw_boxplot(field, print_outliers=True, print_mean=True, title=None, y_label=None, tag=\"a\"):\n",
    "    plt.figure(figsize=(6, 5))\n",
    "    sns.boxplot(x='Year', y=field, data=df, showfliers=print_outliers, color=\"lightblue\")\n",
    "    # Add green lines to show the median of each box\n",
    "    medians = df.groupby('Year')[field].median()\n",
    "    for i, (year, median) in enumerate(medians.items()):\n",
    "        plt.hlines(y=median, xmin=i - 0.4, xmax=i + 0.4, color='green', linewidth=2)\n",
    "    texts = []\n",
    "    # Adding SaaS to outliers\n",
    "    for year in df['Year'].unique():\n",
    "        year_data = df[df['Year'] == year]\n",
    "        q1 = year_data[field].quantile(0.25)\n",
    "        q3 = year_data[field].quantile(0.75)\n",
    "        iqr = q3 - q1\n",
    "        lower_bound = q1 - 1.5 * iqr\n",
    "        upper_bound = q3 + 1.5 * iqr\n",
    "        if (print_outliers):\n",
    "            outliers = year_data[(year_data[field] < lower_bound) | (year_data[field] > upper_bound)]\n",
    "        else:\n",
    "            outliers = pd.DataFrame()\n",
    "        \n",
    "        for idx, row in outliers.iterrows():\n",
    "            texts.append(plt.gca().text(row['Year']-2019.1, row[field], row['SaaS'], horizontalalignment='right', fontsize=8, color='red'))\n",
    "    adjust_text(texts, expand=(1.2, 2)) \n",
    "\n",
    "    # Calculate means and add line showing its evolution\n",
    "    means = df.groupby('Year')[field].mean()\n",
    "    if print_mean:\n",
    "        plt.plot(means.index-2019, means.values, color='blue', marker='o', linestyle='--', label='Mean')\n",
    "\n",
    "\n",
    "    if title is None:\n",
    "        plt.title(f'({tag}) Evolution of #{field} per year', fontsize=titleSize)\n",
    "    else:\n",
    "        plt.title(title, fontsize=titleSize)\n",
    "    plt.suptitle('')\n",
    "    plt.xlabel('Year', fontsize=axisSize)\n",
    "    if y_label is None:\n",
    "        plt.ylabel(f'#{field}',fontsize=axisSize)\n",
    "    else:\n",
    "        plt.ylabel(y_label,fontsize=axisSize)\n",
    "    plt.savefig(os.path.join(FIGURES_PATH,f\"SaaS_{field}_Distribution_Evolution.png\"), format='png', dpi=300)\n",
    "    plt.show()\n",
    "    display(Markdown(f\"## Mean {field}:\"))\n",
    "    display(Markdown(means.to_markdown()))\n",
    "    display(Markdown(f\"### {field} Increase:\"))\n",
    "    display(Markdown(str((means[int(STUDIED_YEARS[-1])]/means[int(STUDIED_YEARS[0])] -1)*100)+\"%\"))\n",
    "\n",
    "draw_boxplot('UsageLimits', title=f\"Evolution of #UsageLimits per year\")"
   ]
  },
  {
   "cell_type": "markdown",
   "metadata": {},
   "source": [
    "The following conclusions can be drawn from the boxplots:\n",
    "\n",
    "- **Features growing rate**. The results show a linear increase in the number of features over the years. From 2019 to 2025, the average number of features of the SaaS under study has increased by 98\\% (from 35.81 to 70.86).\n",
    "\n",
    "- **Evolution of the numbers of plans**. The number of plans has shown a relatively stable trend from 2019 to 2025, with the number of plans hovering around three to four (the mean increase between 2019 and 2025 is 14\\%). While there are occasional outliers, such as *Webflow*, the overall distribution does not show significant increases or decreases in the number of plans offered. This suggests that while some SaaS providers may experiment with the number of plans, the general approach across the industry has remained consistent in terms of the number of plans available to customers. The reason for this tendency might be the Paradox of Choice, as keeping a reduced number of plans facilitates the decision of the customer. \n",
    "\n",
    "- **Evolution of the number of add-ons**. SaaS pricings show a clear trend toward incorporating more add-ons, with projections suggesting a continued linear increase. Between 2019 and 2025, the average number of add-ons grew by 211.84\\% (from 1.41 to 4.39), reflecting a shift in pricing strategies. This rise can be explained by the fact that add-ons allow for greater configurability without inducing the Paradox of Choice. Consequently, as depicted in the boxplot that illustrates the evolution of the configuration space size, this expansion has led to an exponential growth in the configuration space, empirically validating our formulation of its size (in the paper). Furthermore, the 2025 median configuration space size surpasses the third quartile threshold of 2019, reinforcing the idea of a market-wide transformation in SaaS pricing design."
   ]
  },
  {
   "cell_type": "markdown",
   "metadata": {},
   "source": [
    "# Statistical tests\n",
    "\n",
    "We compare if there are significant differences in the numer of features, plans and addons in the whole set of SaaS among the extreme years of the study (2019 and 2024)."
   ]
  },
  {
   "cell_type": "code",
   "execution_count": 11,
   "metadata": {},
   "outputs": [
    {
     "name": "stdout",
     "output_type": "stream",
     "text": [
      "            p-value\n",
      "UsageLimits:   0.021919\n"
     ]
    }
   ],
   "source": [
    "from scipy.stats import ttest_ind, mannwhitneyu, shapiro, levene\n",
    "\n",
    "# Filter data for 2019 and 2025\n",
    "df_2019 = df[df['Year'] == int(STUDIED_YEARS[0])]\n",
    "df_2025 = df[df['Year'] == int(STUDIED_YEARS[-1])]\n",
    "\n",
    "# Compare UsageLimits\n",
    "usagelimits_2019 = df_2019['UsageLimits'].dropna()\n",
    "usagelimits_2025 = df_2025['UsageLimits'].dropna()\n",
    "\n",
    "# Normality Test:\n",
    "normal_usagelimits_2019 = shapiro(usagelimits_2019).pvalue > 0.05\n",
    "normal_usagelimits_2025 = shapiro(usagelimits_2025).pvalue > 0.05\n",
    "\n",
    "# Homoscedasticity (Variance homogeneity) test:\n",
    "equal_var_usagelimits = levene(usagelimits_2019, usagelimits_2025).pvalue > 0.05\n",
    "\n",
    "# T Student or Mann-Withney U tests:\n",
    "if normal_usagelimits_2019 and normal_usagelimits_2025 and equal_var_usagelimits:\n",
    "    usagelimits_stat, usagelimits_pvalue = ttest_ind(usagelimits_2019, usagelimits_2025)\n",
    "else:\n",
    "    usagelimits_stat, usagelimits_pvalue = mannwhitneyu(usagelimits_2019, usagelimits_2025)\n",
    "\n",
    "print(\"            p-value\")\n",
    "print(f\"UsageLimits:   {usagelimits_pvalue:.6f}\")"
   ]
  },
  {
   "cell_type": "markdown",
   "metadata": {},
   "source": [
    "This code compares the usage limits between 2019 and 2025 to see if there are statistically significant differences using the appropriate test depending on normality and homogeneity of variances.\n",
    "\n",
    "**The test has shown statistically significant differences** (all p-values are < 0.05), and differences between years 2019 and 2025 in addons and features were very strongly significant.\n",
    "\n",
    "Next we compute effect size estimators. To calculate the effect size of the differences between 2019 and 2025, we can use Cohen's d for the Student's t-test (data following a normal distribution with homogeneous variance) and the r statistic for the Mann-Whitney U test (data that does not follow a normal distribution or with heterogeneous variance)."
   ]
  },
  {
   "cell_type": "code",
   "execution_count": 12,
   "metadata": {},
   "outputs": [
    {
     "data": {
      "text/plain": [
       "('UsageLimits', 'r:', np.float64(10.312117308025815))"
      ]
     },
     "execution_count": 12,
     "metadata": {},
     "output_type": "execute_result"
    }
   ],
   "source": [
    "# Function for computing Cohen's d\n",
    "def cohen_d(x, y):\n",
    "    nx = len(x)\n",
    "    ny = len(y)\n",
    "    dof = nx + ny - 2\n",
    "    return (np.mean(x) - np.mean(y)) / np.sqrt(((nx - 1) * np.var(x) + (ny - 1) * np.var(y)) / dof)\n",
    "\n",
    "if normal_usagelimits_2019 and normal_usagelimits_2025 and equal_var_usagelimits: \n",
    "    usagelimits_effect_size = cohen_d(usagelimits_2019, usagelimits_2025)\n",
    "    usagelimits_estimator = \"Cohen' s d:\"\n",
    "else:    \n",
    "    usagelimits_effect_size = usagelimits_stat / np.sqrt(len(usagelimits_2019) * len(usagelimits_2025))\n",
    "    usagelimits_estimator = \"r:\"\n",
    "\n",
    "('UsageLimits',usagelimits_estimator,usagelimits_effect_size)"
   ]
  },
  {
   "cell_type": "code",
   "execution_count": null,
   "metadata": {},
   "outputs": [
    {
     "data": {
      "text/plain": [
       "(np.True_, np.True_, np.False_)"
      ]
     },
     "execution_count": 13,
     "metadata": {},
     "output_type": "execute_result"
    }
   ],
   "source": [
    "(equal_var_usagelimits, normal_usagelimits_2019, normal_usagelimits_2025)"
   ]
  },
  {
   "cell_type": "markdown",
   "metadata": {},
   "source": [
    "\n",
    "The effect size values computed in the analysis provide a measure of the magnitude of the differences between the two groups (2019 and 2025) for features, plans, and addons. Here is how to interpret these values:\n",
    "\n",
    "#### Cohen's d (for t-tests)\n",
    "\n",
    "Cohen's d is used to measure the effect size for t-tests. The interpretation of Cohen's d values is as follows:\n",
    "\n",
    "* 0.2: Small effect size\n",
    "* 0.5: Medium effect size\n",
    "* 0.8: Large effect size\n",
    "* A larger Cohen's d indicates a greater difference between the means of the two groups.\n",
    "\n",
    "#### r (for Mann-Whitney U tests)\n",
    "The effect size r for the Mann-Whitney U test is interpreted similarly to correlation coefficients:\n",
    "\n",
    "* 0.1: Small effect size\n",
    "* 0.3: Medium effect size\n",
    "* 0.5: Large effect size\n",
    "* A larger r indicates a greater difference between the distributions of the two groups.\n",
    "\n",
    "> **WARNING:** In our results, the coefficient of the r estimator is multiplied by 10 to facilitate the interpretation of the results.\n",
    "\n",
    "### Practical Interpretation\n",
    "**Features Effect Size:**\n",
    "\n",
    "Since the effect size is above 0.5 (r estimator is used), the difference is large.\n",
    "\n",
    "\n",
    "**Plans Effect Size:**\n",
    "\n",
    "Since the effect size is above 0.5 (r estimator is used), the difference is large.\n",
    "\n",
    "**Addons Effect Size:**\n",
    "\n",
    "Since the effect size is above 0.5 (r estimator is used), the difference is large.\n",
    "\n",
    "\n",
    "These effect sizes help us understand not just whether there is a statistically significant difference, but also the practical significance of the difference. A statistically significant result with a small effect size may indicate that while the difference is real, it is not very impactful in practical terms. Conversely, a large effect size indicates a meaningful difference that could have strong practical implications."
   ]
  },
  {
   "cell_type": "markdown",
   "metadata": {},
   "source": []
  }
 ],
 "metadata": {
  "kernelspec": {
   "display_name": "tsc",
   "language": "python",
   "name": "python3"
  },
  "language_info": {
   "codemirror_mode": {
    "name": "ipython",
    "version": 3
   },
   "file_extension": ".py",
   "mimetype": "text/x-python",
   "name": "python",
   "nbconvert_exporter": "python",
   "pygments_lexer": "ipython3",
   "version": "3.12.9"
  }
 },
 "nbformat": 4,
 "nbformat_minor": 4
}
